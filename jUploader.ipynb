{
 "cells": [
  {
   "cell_type": "code",
   "execution_count": 107,
   "metadata": {
    "collapsed": true
   },
   "outputs": [],
   "source": [
    "import pandas as pd\n",
    "import json"
   ]
  },
  {
   "cell_type": "code",
   "execution_count": 121,
   "outputs": [],
   "source": [
    "metaDF = pd.read_excel('templateSampleFilled.xlsx',\n",
    "                   usecols=\"A:F\",nrows=4)\n",
    "meta = metaDF.to_json(orient=\"split\")\n",
    "metaParsed = json.loads(meta)['data']"
   ],
   "metadata": {
    "collapsed": false,
    "pycharm": {
     "name": "#%%\n"
    }
   }
  },
  {
   "cell_type": "code",
   "execution_count": 123,
   "outputs": [
    {
     "name": "stdout",
     "output_type": "stream",
     "text": [
      "{'name': 'Happy Researcher', 'email': 'happy@psu.edu', 'directFetch': 'T', 'handFetch': 'F', 'comment': 'This is just a test!'}\n"
     ]
    }
   ],
   "source": [
    "metaData = {\n",
    "    'name' : metaParsed[0][1],\n",
    "    'email' :  metaParsed[1][1],\n",
    "    'directFetch' :  metaParsed[2][1],\n",
    "    'handFetch' :  metaParsed[3][1],\n",
    "    'comment' : metaParsed[0][5]\n",
    "    }\n",
    "print(metaData)"
   ],
   "metadata": {
    "collapsed": false,
    "pycharm": {
     "name": "#%%\n"
    }
   }
  },
  {
   "cell_type": "code",
   "execution_count": 124,
   "outputs": [],
   "source": [
    "df2 = pd.read_excel('templateSampleFilled.xlsx',\n",
    "                   usecols=\"A:K\",nrows=4,skiprows=8)\n"
   ],
   "metadata": {
    "collapsed": false,
    "pycharm": {
     "name": "#%%\n"
    }
   }
  },
  {
   "cell_type": "code",
   "execution_count": 125,
   "outputs": [
    {
     "name": "stdout",
     "output_type": "stream",
     "text": [
      "[\n",
      "    {\n",
      "        \"id/nickname\": 1,\n",
      "        \"Composition\": \"Fe60 Ni20 Cr10 Zr10 \",\n",
      "        \"Structure\": \"BCC+FCC\",\n",
      "        \"Processing\": \"HIP+A\",\n",
      "        \"Material Comment\": null,\n",
      "        \"Name\": \"UTS\",\n",
      "        \"Source\": \"EXP\",\n",
      "        \"Temperature [K]\": 298,\n",
      "        \"Value [SI]\": 750000000.0,\n",
      "        \"Pointer\": \"T7\",\n",
      "        \"DOI\": \"10.1557/jmr.2018.153\"\n",
      "    },\n",
      "    {\n",
      "        \"id/nickname\": 2,\n",
      "        \"Composition\": \"Fe60 Ni10 Cr20 Zr10\",\n",
      "        \"Structure\": \"BCC+FCC\",\n",
      "        \"Processing\": \"HIP+A\",\n",
      "        \"Material Comment\": null,\n",
      "        \"Name\": \"UTS\",\n",
      "        \"Source\": \"EXP\",\n",
      "        \"Temperature [K]\": 298,\n",
      "        \"Value [SI]\": 650000000.0,\n",
      "        \"Pointer\": \"T7\",\n",
      "        \"DOI\": \"10.1557/jmr.2018.153\"\n",
      "    },\n",
      "    {\n",
      "        \"id/nickname\": 3,\n",
      "        \"Composition\": \"Fe60 Ni10 Cr10 Zr20\",\n",
      "        \"Structure\": \"BCC\",\n",
      "        \"Processing\": \"HIP+A\",\n",
      "        \"Material Comment\": null,\n",
      "        \"Name\": \"UTS\",\n",
      "        \"Source\": \"EXP\",\n",
      "        \"Temperature [K]\": 298,\n",
      "        \"Value [SI]\": 700000000.0,\n",
      "        \"Pointer\": \"T7\",\n",
      "        \"DOI\": \"10.1557/jmr.2018.153\"\n",
      "    },\n",
      "    {\n",
      "        \"id/nickname\": 4,\n",
      "        \"Composition\": \"Fe25 Ni25 Cr25 Zr25\",\n",
      "        \"Structure\": \"BCC\",\n",
      "        \"Processing\": \"HIP+A\",\n",
      "        \"Material Comment\": null,\n",
      "        \"Name\": \"UTS\",\n",
      "        \"Source\": \"EXP\",\n",
      "        \"Temperature [K]\": 298,\n",
      "        \"Value [SI]\": 550000000.0,\n",
      "        \"Pointer\": \"T7\",\n",
      "        \"DOI\": \"10.1557/jmr.2018.153\"\n",
      "    }\n",
      "]\n"
     ]
    }
   ],
   "source": [
    "result = df2.to_json(orient=\"records\")\n",
    "parsed = json.loads(result)\n",
    "print(json.dumps(parsed, indent=4))"
   ],
   "metadata": {
    "collapsed": false,
    "pycharm": {
     "name": "#%%\n"
    }
   }
  },
  {
   "cell_type": "code",
   "execution_count": 126,
   "outputs": [],
   "source": [
    "datapoint = parsed[0]"
   ],
   "metadata": {
    "collapsed": false,
    "pycharm": {
     "name": "#%%\n"
    }
   }
  },
  {
   "cell_type": "code",
   "execution_count": 127,
   "outputs": [
    {
     "name": "stdout",
     "output_type": "stream",
     "text": [
      "{\n",
      "    \"meta\": {\n",
      "        \"name\": \"Happy Researcher\",\n",
      "        \"email\": \"happy@psu.edu\",\n",
      "        \"directFetch\": \"T\",\n",
      "        \"handFetch\": \"F\",\n",
      "        \"comment\": \"This is just a test!\"\n",
      "    },\n",
      "    \"material\": {\n",
      "        \"composition\": \"Fe60 Ni20 Cr10 Zr10 \",\n",
      "        \"structure\": \"BCC+FCC\",\n",
      "        \"processing\": \"HIP+A\",\n",
      "        \"comment\": null\n",
      "    },\n",
      "    \"property\": {\n",
      "        \"name\": \"UTS\",\n",
      "        \"source\": \"EXP\",\n",
      "        \"temperature\": 298,\n",
      "        \"value\": 750000000.0,\n",
      "        \"reference\": {\n",
      "            \"pointer\": \"T7\",\n",
      "            \"doi\": \"10.1557/jmr.2018.153\"\n",
      "        }\n",
      "    }\n",
      "}\n"
     ]
    }
   ],
   "source": [
    "entry = {\n",
    "    'meta' : metaData,\n",
    "    'material' : {\n",
    "        'composition' : datapoint['Composition'],\n",
    "        'structure' : datapoint['Structure'],\n",
    "        'processing' : datapoint['Processing'],\n",
    "        'comment' : datapoint['Material Comment']\n",
    "    },\n",
    "    'property': {\n",
    "        'name' : datapoint['Name'],\n",
    "        'source' : datapoint['Source'],\n",
    "        'temperature' : datapoint['Temperature [K]'],\n",
    "        'value' : datapoint['Value [SI]'],\n",
    "        'reference' : {\n",
    "            'pointer' : datapoint['Pointer'],\n",
    "            'doi' : datapoint['DOI']\n",
    "        }\n",
    "    }\n",
    "}\n",
    "print(json.dumps(entry, indent=4))"
   ],
   "metadata": {
    "collapsed": false,
    "pycharm": {
     "name": "#%%\n"
    }
   }
  }
 ],
 "metadata": {
  "kernelspec": {
   "display_name": "Python 3",
   "language": "python",
   "name": "python3"
  },
  "language_info": {
   "codemirror_mode": {
    "name": "ipython",
    "version": 2
   },
   "file_extension": ".py",
   "mimetype": "text/x-python",
   "name": "python",
   "nbconvert_exporter": "python",
   "pygments_lexer": "ipython2",
   "version": "2.7.6"
  }
 },
 "nbformat": 4,
 "nbformat_minor": 0
}