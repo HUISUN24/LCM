{
 "cells": [
  {
   "cell_type": "code",
   "execution_count": 1,
   "metadata": {
    "collapsed": true
   },
   "outputs": [],
   "source": [
    "import pandas as pd\n",
    "import json\n",
    "import pymatgen as mg"
   ]
  },
  {
   "cell_type": "code",
   "execution_count": 2,
   "outputs": [],
   "source": [
    "metaDF = pd.read_excel('templateSampleFilled.xlsx',\n",
    "                   usecols=\"A:F\",nrows=4)\n",
    "meta = metaDF.to_json(orient=\"split\")\n",
    "metaParsed = json.loads(meta)['data']"
   ],
   "metadata": {
    "collapsed": false,
    "pycharm": {
     "name": "#%%\n"
    }
   }
  },
  {
   "cell_type": "code",
   "execution_count": 3,
   "outputs": [
    {
     "name": "stdout",
     "output_type": "stream",
     "text": [
      "{'name': 'Happy Researcher', 'email': 'happy@psu.edu', 'directFetch': 'T', 'handFetch': 'F', 'comment': 'This is just a test!'}\n"
     ]
    }
   ],
   "source": [
    "metaData = {\n",
    "    'name' : metaParsed[0][1],\n",
    "    'email' :  metaParsed[1][1],\n",
    "    'directFetch' :  metaParsed[2][1],\n",
    "    'handFetch' :  metaParsed[3][1],\n",
    "    'comment' : metaParsed[0][5]\n",
    "    }\n",
    "print(metaData)"
   ],
   "metadata": {
    "collapsed": false,
    "pycharm": {
     "name": "#%%\n"
    }
   }
  },
  {
   "cell_type": "code",
   "execution_count": 4,
   "outputs": [],
   "source": [
    "df2 = pd.read_excel('templateSampleFilled.xlsx',\n",
    "                   usecols=\"A:K\",nrows=4,skiprows=8)\n"
   ],
   "metadata": {
    "collapsed": false,
    "pycharm": {
     "name": "#%%\n"
    }
   }
  },
  {
   "cell_type": "code",
   "execution_count": 5,
   "outputs": [
    {
     "name": "stdout",
     "output_type": "stream",
     "text": [
      "[\n",
      "    {\n",
      "        \"id/nickname\": 1,\n",
      "        \"Composition\": \"Fe60 Ni20 Cr10 Zr10 \",\n",
      "        \"Structure\": \"BCC+FCC\",\n",
      "        \"Processing\": \"HIP+A\",\n",
      "        \"Material Comment\": null,\n",
      "        \"Name\": \"UTS\",\n",
      "        \"Source\": \"EXP\",\n",
      "        \"Temperature [K]\": 298,\n",
      "        \"Value [SI]\": 750000000.0,\n",
      "        \"Pointer\": \"T7\",\n",
      "        \"DOI\": \"10.1557/jmr.2018.153\"\n",
      "    },\n",
      "    {\n",
      "        \"id/nickname\": 2,\n",
      "        \"Composition\": \"Fe60 Ni10 Cr20 Zr10\",\n",
      "        \"Structure\": \"BCC+FCC\",\n",
      "        \"Processing\": \"HIP+A\",\n",
      "        \"Material Comment\": null,\n",
      "        \"Name\": \"UTS\",\n",
      "        \"Source\": \"EXP\",\n",
      "        \"Temperature [K]\": 298,\n",
      "        \"Value [SI]\": 650000000.0,\n",
      "        \"Pointer\": \"T7\",\n",
      "        \"DOI\": \"10.1557/jmr.2018.153\"\n",
      "    },\n",
      "    {\n",
      "        \"id/nickname\": 3,\n",
      "        \"Composition\": \"Fe60 Ni10 Cr10 Zr20\",\n",
      "        \"Structure\": \"BCC\",\n",
      "        \"Processing\": \"HIP+A\",\n",
      "        \"Material Comment\": null,\n",
      "        \"Name\": \"UTS\",\n",
      "        \"Source\": \"EXP\",\n",
      "        \"Temperature [K]\": 298,\n",
      "        \"Value [SI]\": 700000000.0,\n",
      "        \"Pointer\": \"T7\",\n",
      "        \"DOI\": \"10.1557/jmr.2018.153\"\n",
      "    },\n",
      "    {\n",
      "        \"id/nickname\": 4,\n",
      "        \"Composition\": \"Fe25 Ni25 Cr25 Zr25\",\n",
      "        \"Structure\": \"BCC\",\n",
      "        \"Processing\": \"HIP+A\",\n",
      "        \"Material Comment\": null,\n",
      "        \"Name\": \"UTS\",\n",
      "        \"Source\": \"EXP\",\n",
      "        \"Temperature [K]\": 298,\n",
      "        \"Value [SI]\": 550000000.0,\n",
      "        \"Pointer\": \"T7\",\n",
      "        \"DOI\": \"10.1557/jmr.2018.153\"\n",
      "    }\n",
      "]\n"
     ]
    }
   ],
   "source": [
    "result = df2.to_json(orient=\"records\")\n",
    "parsed = json.loads(result)\n",
    "print(json.dumps(parsed, indent=4))"
   ],
   "metadata": {
    "collapsed": false,
    "pycharm": {
     "name": "#%%\n"
    }
   }
  },
  {
   "cell_type": "code",
   "execution_count": 6,
   "outputs": [],
   "source": [
    "datapoint = parsed[0]"
   ],
   "metadata": {
    "collapsed": false,
    "pycharm": {
     "name": "#%%\n"
    }
   }
  },
  {
   "cell_type": "code",
   "execution_count": 72,
   "outputs": [],
   "source": [
    "# representation of (1) IUPAC standardized formula, (2) pymatgen reduced\n",
    "# composition object, (3) reduced formula, and (4) chemical system\n",
    "\n",
    "def compStr2compList(s):\n",
    "    try:\n",
    "        compObj = mg.Composition(s)\n",
    "        if not compObj.valid:\n",
    "            print(\"Composition invalid\")\n",
    "        return [compObj.iupac_formula, compObj.reduced_composition,\n",
    "                compObj.reduced_formula, compObj.chemical_system]\n",
    "    except:\n",
    "        print(\"Can't parse composition!: \"+s)\n",
    "        return ['', mg.Composition(), '', '']"
   ],
   "metadata": {
    "collapsed": false,
    "pycharm": {
     "name": "#%% Modify composition string from the template into a unified\n"
    }
   }
  },
  {
   "cell_type": "code",
   "execution_count": 77,
   "outputs": [
    {
     "name": "stdout",
     "output_type": "stream",
     "text": [
      "['Fe2 Ni3', Comp: Fe2 Ni3, 'Fe2Ni3', 'Fe-Ni']\n",
      "['Fe10 Ni10 Al80', Comp: Al8 Fe1 Ni1, 'Al8FeNi', 'Al-Fe-Ni']\n",
      "['Nd1 Zr1 Ta1 Ni1 B1', Comp: Nd1 Zr1 Ta1 Ni1 B1, 'NdZrTaNiB', 'B-Nd-Ni-Ta-Zr']\n",
      "['Nd1 Zr1 Ta1 Ni1 B1', Comp: Nd1 Zr1 Ta1 Ni1 B1, 'NdZrTaNiB', 'B-Nd-Ni-Ta-Zr']\n",
      "['Nd2 Zr3 Ti2 Ta2 Al2', Comp: Nd2 Zr3 Ta2 Ti2 Al2, 'Nd2Zr3Ta2(TiAl)2', 'Al-Nd-Ta-Ti-Zr']\n"
     ]
    }
   ],
   "source": [
    "for s in ['Fe2Ni3', 'Fe10 Ni10 Al80', 'NiZrNdTaB', 'BTaNdZrNi', 'Zr3 (AlTaNdTi)2']:\n",
    "    print(compStr2compList(s))\n"
   ],
   "metadata": {
    "collapsed": false,
    "pycharm": {
     "name": "#%% Test compStr2compList\n"
    }
   }
  },
  {
   "cell_type": "code",
   "execution_count": 57,
   "outputs": [],
   "source": [
    "# If composition -> keep as is\n",
    "# if all uppercase (e.g. BCC, FCC) -> keep as is\n",
    "# otherwise -> make all lowercase\n",
    "\n",
    "def phaseNameUnifier(s):\n",
    "    try:\n",
    "        isComp = mg.Composition(s).valid\n",
    "    except:\n",
    "        isComp = False\n",
    "\n",
    "    if isComp:\n",
    "        return s\n",
    "    elif s.isupper():\n",
    "        return s\n",
    "    else:\n",
    "        return s.lower()"
   ],
   "metadata": {
    "collapsed": false,
    "pycharm": {
     "name": "#%% Unifies phase names in the database\n"
    }
   }
  },
  {
   "cell_type": "code",
   "execution_count": 62,
   "outputs": [
    {
     "name": "stdout",
     "output_type": "stream",
     "text": [
      "BCC\n",
      "FCC\n",
      "Fe3Ni\n",
      "Al2O3\n",
      "laves\n",
      "sigma\n"
     ]
    }
   ],
   "source": [
    "for s in ['BCC', 'FCC', 'Fe3Ni', 'Al2O3', 'Laves', 'Sigma']:\n",
    "    print(phaseNameUnifier(s))"
   ],
   "metadata": {
    "collapsed": false,
    "pycharm": {
     "name": "#%% Test phase name unifier\n"
    }
   }
  },
  {
   "cell_type": "code",
   "execution_count": 64,
   "outputs": [],
   "source": [
    "def structStr2list(s):\n",
    "    ls = []\n",
    "    try:\n",
    "        s = s.replace(' ','')\n",
    "        tempLs = list(s.split('+'))\n",
    "        for phase in tempLs:\n",
    "            if phase[0].isdigit():\n",
    "                for i in range(int(phase[0])):\n",
    "                    ls.append(phaseNameUnifier(phase[1:]))\n",
    "            else:\n",
    "                ls.append(phaseNameUnifier(phase))\n",
    "\n",
    "        if ls.__len__()>0:\n",
    "            return [ls, ls.__len__()]\n",
    "        else:\n",
    "            return []\n",
    "    except:\n",
    "        print('Error parsing structure list.')\n",
    "        return []"
   ],
   "metadata": {
    "collapsed": false,
    "pycharm": {
     "name": "#%%\n"
    }
   }
  },
  {
   "cell_type": "code",
   "execution_count": 66,
   "outputs": [
    {
     "name": "stdout",
     "output_type": "stream",
     "text": [
      "[['BCC'], 1]\n",
      "[['FeC3'], 1]\n",
      "[['BCC', 'TiAl5'], 2]\n",
      "[['FCC', 'BCC'], 2]\n",
      "[['BCC', 'FCC', 'laves'], 3]\n",
      "[['BCC', 'BCC', 'BCC'], 3]\n",
      "[['BCC', 'BCC', 'FCC', 'FCC', 'sigma', 'laves'], 6]\n"
     ]
    }
   ],
   "source": [
    "for s in ['BCC', 'FeC3', 'BCC+TiAl5', 'FCC+BCC', 'BCC+FCC+Laves', '3BCC', '2BCC+2FCC+Sigma+Laves']:\n",
    "    print(structStr2list(s))"
   ],
   "metadata": {
    "collapsed": false,
    "pycharm": {
     "name": "#%%\n"
    }
   }
  },
  {
   "cell_type": "code",
   "execution_count": 10,
   "outputs": [],
   "source": [
    "def datapoint2entry(metaD, dataP):\n",
    "    compList = compStr2compList(dataP['Composition'])\n",
    "    entry = {\n",
    "        'meta' : metaD,\n",
    "        'material' : {\n",
    "            'formula' : compList[0],\n",
    "            'composition' : compList[1],\n",
    "            'reducedFormula' : compList[2],\n",
    "            'system' : compList[3],\n",
    "            'structure' : dataP['Structure'],\n",
    "            'processing' : dataP['Processing'],\n",
    "            'comment' : dataP['Material Comment']\n",
    "        },\n",
    "        'property': {\n",
    "            'name' : dataP['Name'],\n",
    "            'source' : dataP['Source'],\n",
    "            'temperature' : dataP['Temperature [K]'],\n",
    "            'value' : dataP['Value [SI]'],\n",
    "            #'unitName' : dataP['Unit [SI]'],\n",
    "            'reference' : {\n",
    "                'pointer' : dataP['Pointer'],\n",
    "                'doi' : dataP['DOI']\n",
    "            }\n",
    "        }\n",
    "    }\n",
    "\n",
    "    return entry"
   ],
   "metadata": {
    "collapsed": false,
    "pycharm": {
     "name": "#%%\n"
    }
   }
  },
  {
   "cell_type": "code",
   "execution_count": 11,
   "outputs": [
    {
     "data": {
      "text/plain": "{'meta': {'name': 'Happy Researcher',\n  'email': 'happy@psu.edu',\n  'directFetch': 'T',\n  'handFetch': 'F',\n  'comment': 'This is just a test!'},\n 'material': {'formula': 'Zr10 Cr10 Fe60 Ni20',\n  'composition': Comp: Zr1 Cr1 Fe6 Ni2,\n  'reducedFormula': 'ZrCr(Fe3Ni)2',\n  'system': 'Cr-Fe-Ni-Zr',\n  'structure': 'BCC+FCC',\n  'processing': 'HIP+A',\n  'comment': None},\n 'property': {'name': 'UTS',\n  'source': 'EXP',\n  'temperature': 298,\n  'value': 750000000.0,\n  'reference': {'pointer': 'T7', 'doi': '10.1557/jmr.2018.153'}}}"
     },
     "execution_count": 11,
     "metadata": {},
     "output_type": "execute_result"
    }
   ],
   "source": [
    "datapoint2entry(metaData, datapoint)\n"
   ],
   "metadata": {
    "collapsed": false,
    "pycharm": {
     "name": "#%%\n"
    }
   }
  }
 ],
 "metadata": {
  "kernelspec": {
   "display_name": "Python 3",
   "language": "python",
   "name": "python3"
  },
  "language_info": {
   "codemirror_mode": {
    "name": "ipython",
    "version": 2
   },
   "file_extension": ".py",
   "mimetype": "text/x-python",
   "name": "python",
   "nbconvert_exporter": "python",
   "pygments_lexer": "ipython2",
   "version": "2.7.6"
  }
 },
 "nbformat": 4,
 "nbformat_minor": 0
}