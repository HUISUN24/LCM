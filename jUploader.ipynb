{
 "cells": [
  {
   "cell_type": "code",
   "execution_count": 119,
   "metadata": {
    "collapsed": true
   },
   "outputs": [],
   "source": [
    "import pandas as pd\n",
    "import json\n",
    "import pymatgen as mg"
   ]
  },
  {
   "cell_type": "code",
   "execution_count": 120,
   "outputs": [],
   "source": [
    "metaDF = pd.read_excel('templateSampleFilled3.xlsx',\n",
    "                   usecols=\"A:F\",nrows=4)\n",
    "meta = metaDF.to_json(orient=\"split\")\n",
    "metaParsed = json.loads(meta)['data']"
   ],
   "metadata": {
    "collapsed": false,
    "pycharm": {
     "name": "#%%\n"
    }
   }
  },
  {
   "cell_type": "code",
   "execution_count": 121,
   "outputs": [
    {
     "name": "stdout",
     "output_type": "stream",
     "text": [
      "{'name': 'Happy Researcher', 'email': 'happy@psu.edu', 'directFetch': 'T', 'handFetch': 'T', 'comment': None}\n"
     ]
    }
   ],
   "source": [
    "metaData = {\n",
    "    'name' : metaParsed[0][1],\n",
    "    'email' :  metaParsed[1][1],\n",
    "    'directFetch' :  metaParsed[2][1],\n",
    "    'handFetch' :  metaParsed[3][1],\n",
    "    'comment' : metaParsed[0][5]\n",
    "    }\n",
    "print(metaData)"
   ],
   "metadata": {
    "collapsed": false,
    "pycharm": {
     "name": "#%%\n"
    }
   }
  },
  {
   "cell_type": "code",
   "execution_count": 130,
   "outputs": [],
   "source": [
    "df2 = pd.read_excel('templateSampleFilled3.xlsx',\n",
    "                   usecols=\"A:N\",nrows=4,skiprows=8)\n"
   ],
   "metadata": {
    "collapsed": false,
    "pycharm": {
     "name": "#%%\n"
    }
   }
  },
  {
   "cell_type": "code",
   "execution_count": 131,
   "outputs": [
    {
     "name": "stdout",
     "output_type": "stream",
     "text": [
      "[\n",
      "    {\n",
      "        \"id/nickname\": 1,\n",
      "        \"Composition\": \"Fe60 Ni20 Cr10 Zr10 \",\n",
      "        \"Structure\": \"BCC+FCC\",\n",
      "        \"Processing\": \"HIP+A\",\n",
      "        \"Material Comment\": null,\n",
      "        \"Name\": \"UTS\",\n",
      "        \"Source\": \"EXP\",\n",
      "        \"Temperature [K]\": 298,\n",
      "        \"Value [SI]\": 750000000,\n",
      "        \"Uncertainty [SI]\": 25000000,\n",
      "        \"Unit [SI]\": \"Pa\",\n",
      "        \"Pointer\": \"T7\",\n",
      "        \"DOI\": \"10.1557/jmr.2018.153\",\n",
      "        \"special\": null\n",
      "    },\n",
      "    {\n",
      "        \"id/nickname\": 2,\n",
      "        \"Composition\": \"Fe60 Ni10 Cr20 Zr10\",\n",
      "        \"Structure\": \"BCC+FCC\",\n",
      "        \"Processing\": \"HIP+A\",\n",
      "        \"Material Comment\": null,\n",
      "        \"Name\": \"UTS\",\n",
      "        \"Source\": \"EXP\",\n",
      "        \"Temperature [K]\": 298,\n",
      "        \"Value [SI]\": 650000000,\n",
      "        \"Uncertainty [SI]\": 25000000,\n",
      "        \"Unit [SI]\": \"Pa\",\n",
      "        \"Pointer\": \"T7\",\n",
      "        \"DOI\": \"10.1557/jmr.2018.153\",\n",
      "        \"special\": null\n",
      "    },\n",
      "    {\n",
      "        \"id/nickname\": 3,\n",
      "        \"Composition\": \"Fe60 Ni10 Cr10 Zr20\",\n",
      "        \"Structure\": \"3BCC+MC\",\n",
      "        \"Processing\": \"HIP+A\",\n",
      "        \"Material Comment\": null,\n",
      "        \"Name\": \"UTS\",\n",
      "        \"Source\": \"EXP\",\n",
      "        \"Temperature [K]\": 298,\n",
      "        \"Value [SI]\": 700000000,\n",
      "        \"Uncertainty [SI]\": 25000000,\n",
      "        \"Unit [SI]\": \"Pa\",\n",
      "        \"Pointer\": \"T7\",\n",
      "        \"DOI\": \"10.1557/jmr.2018.153\",\n",
      "        \"special\": null\n",
      "    },\n",
      "    {\n",
      "        \"id/nickname\": 4,\n",
      "        \"Composition\": \"Fe25 Ni25 Cr25 Zr25\",\n",
      "        \"Structure\": \"BCT+Laves\",\n",
      "        \"Processing\": \"HIP+A\",\n",
      "        \"Material Comment\": null,\n",
      "        \"Name\": \"UTS\",\n",
      "        \"Source\": \"EXP\",\n",
      "        \"Temperature [K]\": 298,\n",
      "        \"Value [SI]\": 550000000,\n",
      "        \"Uncertainty [SI]\": 25000000,\n",
      "        \"Unit [SI]\": \"Pa\",\n",
      "        \"Pointer\": \"T7\",\n",
      "        \"DOI\": \"10.1557/jmr.2018.153\",\n",
      "        \"special\": null\n",
      "    }\n",
      "]\n"
     ]
    }
   ],
   "source": [
    "result = df2.to_json(orient=\"records\")\n",
    "parsed = json.loads(result)\n",
    "print(json.dumps(parsed, indent=4))"
   ],
   "metadata": {
    "collapsed": false,
    "pycharm": {
     "name": "#%%\n"
    }
   }
  },
  {
   "cell_type": "code",
   "execution_count": 6,
   "outputs": [],
   "source": [
    "datapoint = parsed[0]"
   ],
   "metadata": {
    "collapsed": false,
    "pycharm": {
     "name": "#%%\n"
    }
   }
  },
  {
   "cell_type": "code",
   "execution_count": 78,
   "outputs": [],
   "source": [
    "# representation of (1) IUPAC standardized formula, (2) pymatgen reduced\n",
    "# composition object, (3) reduced formula, and (4) chemical system\n",
    "\n",
    "def compStr2compList(s):\n",
    "    try:\n",
    "        compObj = mg.Composition(s)\n",
    "        if not compObj.valid:\n",
    "            print(\"Composition invalid\")\n",
    "        return [compObj.iupac_formula, compObj.reduced_composition,\n",
    "                compObj.reduced_formula, compObj.chemical_system, compObj.__len__()]\n",
    "    except:\n",
    "        print(\"Warning! Can't parse composition!: \"+s)\n",
    "        return ['', mg.Composition(), '', '', 0]"
   ],
   "metadata": {
    "collapsed": false,
    "pycharm": {
     "name": "#%% Modify composition string from the template into a unified\n"
    }
   }
  },
  {
   "cell_type": "code",
   "execution_count": 79,
   "outputs": [
    {
     "name": "stdout",
     "output_type": "stream",
     "text": [
      "['Fe2 Ni3', Comp: Fe2 Ni3, 'Fe2Ni3', 'Fe-Ni', 2]\n",
      "['Fe10 Ni10 Al80', Comp: Al8 Fe1 Ni1, 'Al8FeNi', 'Al-Fe-Ni', 3]\n",
      "['Nd1 Zr1 Ta1 Ni1 B1', Comp: Nd1 Zr1 Ta1 Ni1 B1, 'NdZrTaNiB', 'B-Nd-Ni-Ta-Zr', 5]\n",
      "['Nd1 Zr1 Ta1 Ni1 B1', Comp: Nd1 Zr1 Ta1 Ni1 B1, 'NdZrTaNiB', 'B-Nd-Ni-Ta-Zr', 5]\n",
      "['Nd2 Zr3 Ti2 Ta2 Al2', Comp: Nd2 Zr3 Ta2 Ti2 Al2, 'Nd2Zr3Ta2(TiAl)2', 'Al-Nd-Ta-Ti-Zr', 5]\n"
     ]
    }
   ],
   "source": [
    "for s in ['Fe2Ni3', 'Fe10 Ni10 Al80', 'NiZrNdTaB', 'BTaNdZrNi', 'Zr3 (AlTaNdTi)2']:\n",
    "    print(compStr2compList(s))\n"
   ],
   "metadata": {
    "collapsed": false,
    "pycharm": {
     "name": "#%% Test compStr2compList\n"
    }
   }
  },
  {
   "cell_type": "code",
   "execution_count": 144,
   "outputs": [],
   "source": [
    "# If composition -> keep as is\n",
    "# if all uppercase (e.g. BCC, FCC) -> keep as is\n",
    "# otherwise -> make all lowercase\n",
    "\n",
    "def phaseNameUnifier(s):\n",
    "    exceptionToUpper = ['b0', 'b1', 'b2', 'a0', 'a1', 'a2']\n",
    "    try:\n",
    "        isComp = mg.Composition(s).valid\n",
    "    except:\n",
    "        isComp = False\n",
    "\n",
    "    if s in exceptionToUpper:\n",
    "        return s.upper()\n",
    "    elif isComp:\n",
    "        return s\n",
    "    elif s.isupper():\n",
    "        return s\n",
    "    else:\n",
    "        return s.lower()"
   ],
   "metadata": {
    "collapsed": false,
    "pycharm": {
     "name": "#%% Unifies phase names in the database\n"
    }
   }
  },
  {
   "cell_type": "code",
   "execution_count": 147,
   "outputs": [
    {
     "name": "stdout",
     "output_type": "stream",
     "text": [
      "BCC\n",
      "FCC\n",
      "Fe3Ni\n",
      "Al2O3\n",
      "laves\n",
      "sigma\n",
      "B2\n"
     ]
    }
   ],
   "source": [
    "for s in ['BCC', 'FCC', 'Fe3Ni', 'Al2O3', 'Laves', 'Sigma', 'b2']:\n",
    "    print(phaseNameUnifier(s))"
   ],
   "metadata": {
    "collapsed": false,
    "pycharm": {
     "name": "#%% Test phase name unifier\n"
    }
   }
  },
  {
   "cell_type": "code",
   "execution_count": 150,
   "outputs": [],
   "source": [
    "# individual phases, interpreting (1) multiple phases\n",
    "# of the same type, (2) composition-defined phases, and\n",
    "# (3) named phases. Processes them in a unified way.\n",
    "\n",
    "def structStr2list(s):\n",
    "    ls = []\n",
    "    try:\n",
    "        s = s.replace(' ','')\n",
    "        tempLs = list(s.split('+'))\n",
    "        for phase in tempLs:\n",
    "            if phase[0].isdigit():\n",
    "                for i in range(int(phase[0])):\n",
    "                    ls.append(phaseNameUnifier(phase[1:]))\n",
    "            else:\n",
    "                ls.append(phaseNameUnifier(phase))\n",
    "        ls.sort()\n",
    "        if ls.__len__()>0:\n",
    "            return [ls, ls.__len__()]\n",
    "        else:\n",
    "            return []\n",
    "    except:\n",
    "        print('Warning! Error parsing structure list.')\n",
    "        return []"
   ],
   "metadata": {
    "collapsed": false,
    "pycharm": {
     "name": "#%% Transforms the structure string into a list of\n"
    }
   }
  },
  {
   "cell_type": "code",
   "execution_count": 152,
   "outputs": [
    {
     "name": "stdout",
     "output_type": "stream",
     "text": [
      "[['BCC'], 1]\n",
      "[['FeC3'], 1]\n",
      "[['BCC', 'TiAl5'], 2]\n",
      "[['BCC', 'FCC'], 2]\n",
      "[['B2', 'BCC', 'FCC', 'laves'], 4]\n",
      "[['BCC', 'BCC', 'BCC'], 3]\n",
      "[['BCC', 'BCC', 'FCC', 'FCC', 'laves', 'sigma'], 6]\n"
     ]
    }
   ],
   "source": [
    "for s in ['BCC', 'FeC3', 'BCC+TiAl5', 'FCC+BCC', 'BCC+FCC+Laves+b2', '3BCC', '2BCC+2FCC+Sigma+Laves']:\n",
    "    print(structStr2list(s))"
   ],
   "metadata": {
    "collapsed": false,
    "pycharm": {
     "name": "#%% Test phase string to list\n"
    }
   }
  },
  {
   "cell_type": "code",
   "execution_count": 153,
   "outputs": [],
   "source": [
    "def processNameUnifier(s):\n",
    "    exception = []\n",
    "\n",
    "    if s in exception:\n",
    "        return s\n",
    "    elif s.isupper():\n",
    "        return s\n",
    "    else:\n",
    "        return s.lower()"
   ],
   "metadata": {
    "collapsed": false,
    "pycharm": {
     "name": "#%% Process name unifier\n"
    }
   }
  },
  {
   "cell_type": "code",
   "execution_count": 154,
   "outputs": [
    {
     "name": "stdout",
     "output_type": "stream",
     "text": [
      "AC\n",
      "A\n",
      "HIP\n",
      "SPS\n"
     ]
    }
   ],
   "source": [
    "for s in ['AC', 'A', 'HIP', 'SPS']:\n",
    "    print(processNameUnifier(s))\n"
   ],
   "metadata": {
    "collapsed": false,
    "pycharm": {
     "name": "#%% Test process name unifier\n"
    }
   }
  },
  {
   "cell_type": "code",
   "execution_count": 158,
   "outputs": [],
   "source": [
    "def processStr2list(s):\n",
    "    ls = []\n",
    "    try:\n",
    "        s = s.replace(' ','')\n",
    "        tempLs = list(s.split('+'))\n",
    "        for process in tempLs:\n",
    "            if process[0].isdigit():\n",
    "                for i in range(int(process[0])):\n",
    "                    ls.append(processNameUnifier(process[1:]))\n",
    "            else:\n",
    "                ls.append(processNameUnifier(process))\n",
    "        if ls.__len__()>0:\n",
    "            return [ls, ls.__len__()]\n",
    "        else:\n",
    "            return []\n",
    "    except:\n",
    "        print('Warning! Error parsing process list.')\n",
    "        return []"
   ],
   "metadata": {
    "collapsed": false,
    "pycharm": {
     "name": "#%% Processes processing string into a unified-form process list\n"
    }
   }
  },
  {
   "cell_type": "code",
   "execution_count": 163,
   "outputs": [
    {
     "name": "stdout",
     "output_type": "stream",
     "text": [
      "[['AC'], 1]\n",
      "[['A'], 1]\n",
      "[['anneal', 'HIP'], 2]\n",
      "[['SPS', 'anneal'], 2]\n"
     ]
    }
   ],
   "source": [
    "for s in ['AC', 'A', 'anneal + HIP', 'SPS+anneal']:\n",
    "    print(processStr2list(s))"
   ],
   "metadata": {
    "collapsed": false,
    "pycharm": {
     "name": "#%% Test process string to list\n"
    }
   }
  },
  {
   "cell_type": "code",
   "execution_count": 164,
   "outputs": [],
   "source": [
    "def datapoint2entry(metaD, dataP):\n",
    "    # metadata\n",
    "    entry = {'meta' : metaD, 'material' : {}, 'property' : {}, 'reference' : {}}\n",
    "\n",
    "    # composition\n",
    "    try:\n",
    "        compList = compStr2compList(dataP['Composition'])\n",
    "    except:\n",
    "        print('Warning. Parsing an entry with an empty composition field.')\n",
    "\n",
    "    try:\n",
    "        entry['material'].update({\n",
    "                'formula' : compList[0],\n",
    "                'composition' : compList[1],\n",
    "                'reducedFormula' : compList[2],\n",
    "                'system' : compList[3],\n",
    "                'nComponents' : compList[4]})\n",
    "    except:\n",
    "        pass\n",
    "\n",
    "    # structure\n",
    "    try:\n",
    "        structList = structStr2list(dataP['Structure'])\n",
    "    except:\n",
    "        print('Warning! Parsing an entry with an empty structure field.')\n",
    "\n",
    "    try:\n",
    "        entry['material'].update({\n",
    "                'structure' : structList[0],\n",
    "                'nPhases' : structList[1]})\n",
    "    except:\n",
    "        pass\n",
    "\n",
    "    # processing\n",
    "    try:\n",
    "        processingList = processStr2list(dataP['Processing'])\n",
    "    except:\n",
    "        print('Warning! Parsing an entry with an empty structure field.')\n",
    "\n",
    "    try:\n",
    "        entry['material'].update({\n",
    "                'processes' : processingList[0],\n",
    "                'nProcessSteps' : processingList[1]})\n",
    "    except:\n",
    "        pass\n",
    "\n",
    "    # comment\n",
    "    try:\n",
    "        entry['material'].update({\n",
    "                'comment' : dataP['Material Comment']})\n",
    "    except:\n",
    "        pass\n",
    "\n",
    "    try:\n",
    "        entry['property'].update({\n",
    "            'name' : dataP['Name'],\n",
    "            'source' : dataP['Source'],\n",
    "            'temperature' : dataP['Temperature [K]'],\n",
    "            'value' : dataP['Value [SI]'],\n",
    "            #'unitName' : dataP['Unit [SI]']\n",
    "            })\n",
    "        entry['reference'].update({\n",
    "                'pointer' : dataP['Pointer'],\n",
    "                'doi' : dataP['DOI']})\n",
    "    except:\n",
    "        pass\n",
    "\n",
    "    return entry"
   ],
   "metadata": {
    "collapsed": false,
    "pycharm": {
     "name": "#%%\n"
    }
   }
  },
  {
   "cell_type": "code",
   "execution_count": 165,
   "outputs": [
    {
     "data": {
      "text/plain": "{'meta': {'name': 'Happy Researcher',\n  'email': 'happy@psu.edu',\n  'directFetch': 'T',\n  'handFetch': 'T',\n  'comment': None},\n 'material': {'formula': 'Zr10 Cr10 Fe60 Ni20',\n  'composition': Comp: Zr1 Cr1 Fe6 Ni2,\n  'reducedFormula': 'ZrCr(Fe3Ni)2',\n  'system': 'Cr-Fe-Ni-Zr',\n  'nComponents': 4,\n  'structure': ['BCC', 'FCC'],\n  'nPhases': 2,\n  'processes': ['HIP', 'A'],\n  'nProcessSteps': 2,\n  'comment': None},\n 'property': {'name': 'UTS',\n  'source': 'EXP',\n  'temperature': 298,\n  'value': 750000000.0},\n 'reference': {'pointer': 'T7', 'doi': '10.1557/jmr.2018.153'}}"
     },
     "execution_count": 165,
     "metadata": {},
     "output_type": "execute_result"
    }
   ],
   "source": [
    "datapoint2entry(metaData, datapoint)\n"
   ],
   "metadata": {
    "collapsed": false,
    "pycharm": {
     "name": "#%%\n"
    }
   }
  }
 ],
 "metadata": {
  "kernelspec": {
   "display_name": "Python 3",
   "language": "python",
   "name": "python3"
  },
  "language_info": {
   "codemirror_mode": {
    "name": "ipython",
    "version": 2
   },
   "file_extension": ".py",
   "mimetype": "text/x-python",
   "name": "python",
   "nbconvert_exporter": "python",
   "pygments_lexer": "ipython2",
   "version": "2.7.6"
  }
 },
 "nbformat": 4,
 "nbformat_minor": 0
}